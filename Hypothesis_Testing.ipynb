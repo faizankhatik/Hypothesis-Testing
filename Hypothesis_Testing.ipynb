{
  "nbformat": 4,
  "nbformat_minor": 0,
  "metadata": {
    "colab": {
      "provenance": []
    },
    "kernelspec": {
      "name": "python3",
      "display_name": "Python 3"
    },
    "language_info": {
      "name": "python"
    }
  },
  "cells": [
    {
      "cell_type": "markdown",
      "source": [
        "# T test & P test"
      ],
      "metadata": {
        "id": "1rMP1LnIx4vw"
      }
    },
    {
      "cell_type": "code",
      "execution_count": null,
      "metadata": {
        "id": "9so6e_P3xvbb"
      },
      "outputs": [],
      "source": [
        "import numpy as np\n",
        "from scipy import stats"
      ]
    },
    {
      "cell_type": "code",
      "source": [
        "# Step 1: Create two random sample datasets\n",
        "group_a = np.random.normal(75,10,30)\n",
        "group_b = np.random.normal(80,12,30)\n",
        "\n",
        "# step 2: Perform an independent t-test\n",
        "t_statistic, p_value = stats.ttest_ind(group_a, group_b)\n",
        "\n",
        "# Step 3: Display the p-value and t-statistic\n",
        "print(f\"T-statistic: {t_statistic}\")\n",
        "print(f\"P-value: {p_value}\")\n",
        "\n",
        "# Step 4: Interpretation based on p-value\n",
        "alpha = 0.05 # signifi cance level\n",
        "if p_value <= alpha:\n",
        "    print(\"Reject the null hypothesis. There is a significant difference between the means of the two groups.\")\n",
        "else:\n",
        "    print(\"Fail to reject the null hypothesis. There is no significant difference between the means of the two groups.\")\n"
      ],
      "metadata": {
        "colab": {
          "base_uri": "https://localhost:8080/"
        },
        "id": "vu6sjGwWyN1h",
        "outputId": "de04a54d-7741-4e51-d849-5afd045bfa7a"
      },
      "execution_count": null,
      "outputs": [
        {
          "output_type": "stream",
          "name": "stdout",
          "text": [
            "T-statistic: -4.07628675798225\n",
            "P-value: 0.00014103921593692487\n",
            "Reject the null hypothesis. There is a significant difference between the means of the two groups.\n"
          ]
        }
      ]
    },
    {
      "cell_type": "markdown",
      "source": [
        "# Z-Test"
      ],
      "metadata": {
        "id": "FNq_D_yt55um"
      }
    },
    {
      "cell_type": "markdown",
      "source": [
        "Imagine a company claims that average weight of there product is 500 grams. we want to test if this claim is true by collecting a sample of 30 products.\n",
        "the sample mean is 505 grams, and the population standard deviation is 10 grams. we will conduct a z-test to see if the differnce in the mean is significant or not."
      ],
      "metadata": {
        "id": "T1MLlf737Kt7"
      }
    },
    {
      "cell_type": "code",
      "source": [
        "# Step 1: Define the known parameters\n",
        "population_mean = 500\n",
        "sample_mean = 505\n",
        "population_std = 10\n",
        "sample_size = 30\n",
        "\n",
        "# Step 2: Calculate the Z-Value\n",
        "z_value = (sample_mean - population_mean) / (population_std / np.sqrt(sample_size))\n",
        "print(f\"z-value : {z_value}\")\n",
        "\n",
        "# Step 3: Calculate the p-value\n",
        "p_value = 2 * (1 - stats.norm.cdf(abs(z_value)))\n",
        "print(f\"p-value : {p_value}\")\n",
        "\n",
        "# Step 4: Set significance level\n",
        "alpha = 0.05\n",
        "\n",
        "# Step 5: Compare p-value with significance level\n",
        "if  p_value < alpha:\n",
        "  print(\"Reject the null hypothesis. The average weight is significantly different from 500 grams.\")\n",
        "else:\n",
        "  print(\"Fail to reject the null hypothesis. The average weight is not significantly different from 500 grams.\")"
      ],
      "metadata": {
        "id": "0VcOaYvOyN51",
        "colab": {
          "base_uri": "https://localhost:8080/"
        },
        "outputId": "d68bd110-c486-47b1-acc4-0e4f1a2d59d7"
      },
      "execution_count": null,
      "outputs": [
        {
          "output_type": "stream",
          "name": "stdout",
          "text": [
            "z-value : 2.7386127875258306\n",
            "p-value : 0.0061698993205441255\n",
            "Reject the null hypothesis. The average weight is significantly different from 500 grams.\n"
          ]
        }
      ]
    },
    {
      "cell_type": "code",
      "source": [],
      "metadata": {
        "id": "GWGT9YQiyN90"
      },
      "execution_count": null,
      "outputs": []
    },
    {
      "cell_type": "code",
      "source": [],
      "metadata": {
        "id": "6TopOoS5yODB"
      },
      "execution_count": null,
      "outputs": []
    }
  ]
}